{
 "cells": [
  {
   "cell_type": "code",
   "execution_count": 1,
   "id": "2774a0da",
   "metadata": {},
   "outputs": [],
   "source": [
    "from database_utils import DatabaseConnector\n",
    "from data_extraction import DataExtractor\n",
    "from data_cleaning import DataCleaning\n",
    "import numpy as np\n",
    "import pandas as pd"
   ]
  },
  {
   "cell_type": "code",
   "execution_count": 2,
   "id": "1a2fb234",
   "metadata": {},
   "outputs": [],
   "source": [
    "db_raw = DatabaseConnector('db_creds_raw.yaml')\n",
    "raw_data = DataExtractor(\"db_creds_raw.yaml\")"
   ]
  },
  {
   "cell_type": "code",
   "execution_count": 3,
   "id": "7242b015",
   "metadata": {},
   "outputs": [
    {
     "name": "stdout",
     "output_type": "stream",
     "text": [
      "Tables in raw data: ['dim_card_details', 'legacy_store_details', 'legacy_users', 'orders_table']\n"
     ]
    }
   ],
   "source": [
    "tables_list = raw_data.db_connector.list_db_tables()\n",
    "print(f'Tables in raw data: {tables_list}')"
   ]
  },
  {
   "cell_type": "code",
   "execution_count": 4,
   "id": "7e32ea54",
   "metadata": {},
   "outputs": [],
   "source": [
    "user_data = raw_data.read_rds_table('legacy_users')\n",
    "card_data = raw_data.read_rds_table('dim_card_details')\n",
    "store_data = raw_data.read_rds_table('legacy_store_details')\n",
    "product_data = raw_data.extract_from_s3(url_path = 's3://data-handling-public/products.csv', new_file_name = 'product_data')\n",
    "orders_table = raw_data.read_rds_table('orders_table')\n",
    "date_details = raw_data.extract_from_s3(url_path = 's3://data-handling-public/date_details.json', new_file_name = 'date_details')\n"
   ]
  },
  {
   "cell_type": "code",
   "execution_count": 5,
   "id": "814d9c5b",
   "metadata": {},
   "outputs": [],
   "source": [
    "cleaner = DataCleaning()\n",
    "user_data_cleaned = cleaner.clean_user_data(user_data)\n",
    "card_data_cleaned = cleaner.clean_card_data(card_data)\n",
    "store_data_cleaned = cleaner.clean_store_data(store_data)\n",
    "product_data_cleaned = cleaner.clean_products_data(product_data)\n",
    "orders_table_cleaned = cleaner.clean_orders_data(orders_table)\n",
    "date_details_cleaned = cleaner.clean_dates_details(date_details)"
   ]
  },
  {
   "cell_type": "code",
   "execution_count": 8,
   "id": "286bb64e",
   "metadata": {},
   "outputs": [
    {
     "data": {
      "text/html": [
       "<div>\n",
       "<style scoped>\n",
       "    .dataframe tbody tr th:only-of-type {\n",
       "        vertical-align: middle;\n",
       "    }\n",
       "\n",
       "    .dataframe tbody tr th {\n",
       "        vertical-align: top;\n",
       "    }\n",
       "\n",
       "    .dataframe thead th {\n",
       "        text-align: right;\n",
       "    }\n",
       "</style>\n",
       "<table border=\"1\" class=\"dataframe\">\n",
       "  <thead>\n",
       "    <tr style=\"text-align: right;\">\n",
       "      <th></th>\n",
       "      <th>timestamp</th>\n",
       "      <th>month</th>\n",
       "      <th>year</th>\n",
       "      <th>day</th>\n",
       "      <th>time_period</th>\n",
       "      <th>date_uuid</th>\n",
       "    </tr>\n",
       "  </thead>\n",
       "  <tbody>\n",
       "    <tr>\n",
       "      <th>0</th>\n",
       "      <td>22:00:06</td>\n",
       "      <td>9</td>\n",
       "      <td>2012</td>\n",
       "      <td>19</td>\n",
       "      <td>Evening</td>\n",
       "      <td>3b7ca996-37f9-433f-b6d0-ce8391b615ad</td>\n",
       "    </tr>\n",
       "    <tr>\n",
       "      <th>1</th>\n",
       "      <td>22:44:06</td>\n",
       "      <td>2</td>\n",
       "      <td>1997</td>\n",
       "      <td>10</td>\n",
       "      <td>Evening</td>\n",
       "      <td>adc86836-6c35-49ca-bb0d-65b6507a00fa</td>\n",
       "    </tr>\n",
       "    <tr>\n",
       "      <th>2</th>\n",
       "      <td>10:05:37</td>\n",
       "      <td>4</td>\n",
       "      <td>1994</td>\n",
       "      <td>15</td>\n",
       "      <td>Morning</td>\n",
       "      <td>5ff791bf-d8e0-4f86-8ceb-c7b60bef9b31</td>\n",
       "    </tr>\n",
       "    <tr>\n",
       "      <th>3</th>\n",
       "      <td>17:29:27</td>\n",
       "      <td>11</td>\n",
       "      <td>2001</td>\n",
       "      <td>6</td>\n",
       "      <td>Midday</td>\n",
       "      <td>1b01fcef-5ab9-404c-b0d4-1e75a0bd19d8</td>\n",
       "    </tr>\n",
       "    <tr>\n",
       "      <th>4</th>\n",
       "      <td>22:40:33</td>\n",
       "      <td>12</td>\n",
       "      <td>2015</td>\n",
       "      <td>31</td>\n",
       "      <td>Evening</td>\n",
       "      <td>dfa907c1-f6c5-40f0-aa0d-40ed77ac5a44</td>\n",
       "    </tr>\n",
       "    <tr>\n",
       "      <th>...</th>\n",
       "      <td>...</td>\n",
       "      <td>...</td>\n",
       "      <td>...</td>\n",
       "      <td>...</td>\n",
       "      <td>...</td>\n",
       "      <td>...</td>\n",
       "    </tr>\n",
       "    <tr>\n",
       "      <th>120156</th>\n",
       "      <td>22:56:56</td>\n",
       "      <td>11</td>\n",
       "      <td>2022</td>\n",
       "      <td>12</td>\n",
       "      <td>Evening</td>\n",
       "      <td>d6c4fb31-720d-4e94-aa6b-dcbcb85f2bb7</td>\n",
       "    </tr>\n",
       "    <tr>\n",
       "      <th>120157</th>\n",
       "      <td>18:25:20</td>\n",
       "      <td>5</td>\n",
       "      <td>1997</td>\n",
       "      <td>31</td>\n",
       "      <td>Evening</td>\n",
       "      <td>f7722027-1aae-49c3-8f8d-853e93f9f3e6</td>\n",
       "    </tr>\n",
       "    <tr>\n",
       "      <th>120158</th>\n",
       "      <td>18:21:40</td>\n",
       "      <td>9</td>\n",
       "      <td>2011</td>\n",
       "      <td>13</td>\n",
       "      <td>Evening</td>\n",
       "      <td>4a3b9851-52e1-463c-ac81-1960f141444e</td>\n",
       "    </tr>\n",
       "    <tr>\n",
       "      <th>120159</th>\n",
       "      <td>19:10:53</td>\n",
       "      <td>7</td>\n",
       "      <td>2013</td>\n",
       "      <td>12</td>\n",
       "      <td>Evening</td>\n",
       "      <td>64974909-0d4b-42a2-822a-73b5695e8bfb</td>\n",
       "    </tr>\n",
       "    <tr>\n",
       "      <th>120160</th>\n",
       "      <td>21:17:12</td>\n",
       "      <td>3</td>\n",
       "      <td>2008</td>\n",
       "      <td>18</td>\n",
       "      <td>Evening</td>\n",
       "      <td>55c228c7-14ee-4d46-99a9-01dfc57d1adf</td>\n",
       "    </tr>\n",
       "  </tbody>\n",
       "</table>\n",
       "<p>120146 rows × 6 columns</p>\n",
       "</div>"
      ],
      "text/plain": [
       "       timestamp  month  year  day time_period  \\\n",
       "0       22:00:06      9  2012   19     Evening   \n",
       "1       22:44:06      2  1997   10     Evening   \n",
       "2       10:05:37      4  1994   15     Morning   \n",
       "3       17:29:27     11  2001    6      Midday   \n",
       "4       22:40:33     12  2015   31     Evening   \n",
       "...          ...    ...   ...  ...         ...   \n",
       "120156  22:56:56     11  2022   12     Evening   \n",
       "120157  18:25:20      5  1997   31     Evening   \n",
       "120158  18:21:40      9  2011   13     Evening   \n",
       "120159  19:10:53      7  2013   12     Evening   \n",
       "120160  21:17:12      3  2008   18     Evening   \n",
       "\n",
       "                                   date_uuid  \n",
       "0       3b7ca996-37f9-433f-b6d0-ce8391b615ad  \n",
       "1       adc86836-6c35-49ca-bb0d-65b6507a00fa  \n",
       "2       5ff791bf-d8e0-4f86-8ceb-c7b60bef9b31  \n",
       "3       1b01fcef-5ab9-404c-b0d4-1e75a0bd19d8  \n",
       "4       dfa907c1-f6c5-40f0-aa0d-40ed77ac5a44  \n",
       "...                                      ...  \n",
       "120156  d6c4fb31-720d-4e94-aa6b-dcbcb85f2bb7  \n",
       "120157  f7722027-1aae-49c3-8f8d-853e93f9f3e6  \n",
       "120158  4a3b9851-52e1-463c-ac81-1960f141444e  \n",
       "120159  64974909-0d4b-42a2-822a-73b5695e8bfb  \n",
       "120160  55c228c7-14ee-4d46-99a9-01dfc57d1adf  \n",
       "\n",
       "[120146 rows x 6 columns]"
      ]
     },
     "execution_count": 8,
     "metadata": {},
     "output_type": "execute_result"
    }
   ],
   "source": [
    "date_details_cleaned"
   ]
  },
  {
   "cell_type": "code",
   "execution_count": 9,
   "id": "093cd21e",
   "metadata": {},
   "outputs": [
    {
     "data": {
      "text/plain": [
       "['orders_table',\n",
       " 'dim_date_times',\n",
       " 'dim_users',\n",
       " 'dim_card_details',\n",
       " 'dim_store_details',\n",
       " 'dim_products']"
      ]
     },
     "execution_count": 9,
     "metadata": {},
     "output_type": "execute_result"
    }
   ],
   "source": [
    "db_cleaned = DatabaseConnector('db_creds_cleaned.yaml')\n",
    "db_cleaned.upload_to_db(user_data_cleaned, table_name='dim_users', if_exists='replace')\n",
    "db_cleaned.upload_to_db(card_data_cleaned, table_name='dim_card_details', if_exists='replace')\n",
    "db_cleaned.upload_to_db(store_data_cleaned, table_name='dim_store_details', if_exists='replace')\n",
    "db_cleaned.upload_to_db(product_data_cleaned, table_name='dim_products', if_exists='replace')\n",
    "db_cleaned.upload_to_db(orders_table_cleaned, table_name='orders_table', if_exists='replace')\n",
    "db_cleaned.upload_to_db(date_details_cleaned, table_name='dim_date_times', if_exists='replace')\n",
    "\n",
    "db_cleaned.list_db_tables()"
   ]
  },
  {
   "cell_type": "code",
   "execution_count": null,
   "id": "e4835c96",
   "metadata": {},
   "outputs": [],
   "source": []
  }
 ],
 "metadata": {
  "kernelspec": {
   "display_name": "base",
   "language": "python",
   "name": "python3"
  },
  "language_info": {
   "codemirror_mode": {
    "name": "ipython",
    "version": 3
   },
   "file_extension": ".py",
   "mimetype": "text/x-python",
   "name": "python",
   "nbconvert_exporter": "python",
   "pygments_lexer": "ipython3",
   "version": "3.9.7"
  }
 },
 "nbformat": 4,
 "nbformat_minor": 5
}
