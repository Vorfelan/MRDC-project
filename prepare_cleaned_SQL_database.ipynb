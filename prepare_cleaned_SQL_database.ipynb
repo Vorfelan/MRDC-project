{
 "cells": [
  {
   "cell_type": "code",
   "execution_count": 1,
   "id": "2774a0da",
   "metadata": {},
   "outputs": [],
   "source": [
    "from database_utils import DatabaseConnector\n",
    "from data_extraction import DataExtractor\n",
    "from data_cleaning import DataCleaning\n",
    "import numpy as np\n",
    "import pandas as pd"
   ]
  },
  {
   "cell_type": "code",
   "execution_count": 2,
   "id": "1a2fb234",
   "metadata": {},
   "outputs": [],
   "source": [
    "# Initiate DatabseConnector class to connect to SQL database containing the raw data.\n",
    "db_raw = DatabaseConnector('credentials/db_creds_raw.yaml')\n",
    "\n",
    "# Initiate DataExtractor class to extract data currently in raw SQL database.\n",
    "raw_data = DataExtractor('credentials/db_creds_raw.yaml')"
   ]
  },
  {
   "cell_type": "code",
   "execution_count": 3,
   "id": "7242b015",
   "metadata": {},
   "outputs": [
    {
     "name": "stdout",
     "output_type": "stream",
     "text": [
      "Tables in raw data: ['dim_card_details', 'legacy_store_details', 'legacy_users', 'orders_table']\n"
     ]
    }
   ],
   "source": [
    "# List tables from raw SQL database.\n",
    "tables_list = raw_data.db_connector.list_db_tables()\n",
    "print(f'Tables in raw data: {tables_list}')"
   ]
  },
  {
   "cell_type": "code",
   "execution_count": 4,
   "id": "7e32ea54",
   "metadata": {},
   "outputs": [],
   "source": [
    "# Extract all raw data tables.\n",
    "user_data = raw_data.read_rds_table('legacy_users')\n",
    "card_data = raw_data.read_rds_table('dim_card_details')\n",
    "store_data = raw_data.read_rds_table('legacy_store_details')\n",
    "product_data = raw_data.extract_from_s3(url_path = 's3://data-handling-public/products.csv', new_file_name = 'product_data')\n",
    "orders_table = raw_data.read_rds_table('orders_table')\n",
    "date_details = raw_data.extract_from_s3(url_path = 's3://data-handling-public/date_details.json', new_file_name = 'date_details')"
   ]
  },
  {
   "cell_type": "code",
   "execution_count": 5,
   "id": "814d9c5b",
   "metadata": {},
   "outputs": [],
   "source": [
    "# Initiate DataCleaning class and clean each data set accordingly.\n",
    "cleaner = DataCleaning()\n",
    "user_data_cleaned = cleaner.clean_user_data(user_data)\n",
    "card_data_cleaned = cleaner.clean_card_data(card_data)\n",
    "store_data_cleaned = cleaner.clean_store_data(store_data)\n",
    "product_data_cleaned = cleaner.clean_products_data(product_data)\n",
    "orders_table_cleaned = cleaner.clean_orders_data(orders_table)\n",
    "date_details_cleaned = cleaner.clean_dates_details(date_details)"
   ]
  },
  {
   "cell_type": "code",
   "execution_count": 6,
   "id": "cafb2ca1",
   "metadata": {},
   "outputs": [
    {
     "name": "stdout",
     "output_type": "stream",
     "text": [
      "All tables have been removed from SQL database.\n"
     ]
    }
   ],
   "source": [
    "db_cleaned = DatabaseConnector('credentials/db_creds_cleaned.yaml')\n",
    "db_cleaned.clear_database()"
   ]
  },
  {
   "cell_type": "code",
   "execution_count": 7,
   "id": "093cd21e",
   "metadata": {},
   "outputs": [],
   "source": [
    "# Initiate DatabaseConnector class to connect to SQL database that will contain new cleaned data and\n",
    "# upload cleaned datasets to this database.\n",
    "db_cleaned = DatabaseConnector('credentials/db_creds_cleaned.yaml')\n",
    "db_cleaned.upload_to_db(user_data_cleaned, table_name='dim_users', if_exists='replace')\n",
    "db_cleaned.upload_to_db(card_data_cleaned, table_name='dim_card_details', if_exists='replace')\n",
    "db_cleaned.upload_to_db(store_data_cleaned, table_name='dim_store_details', if_exists='replace')\n",
    "db_cleaned.upload_to_db(product_data_cleaned, table_name='dim_products', if_exists='replace')\n",
    "db_cleaned.upload_to_db(orders_table_cleaned, table_name='orders_table', if_exists='replace')\n",
    "db_cleaned.upload_to_db(date_details_cleaned, table_name='dim_date_times', if_exists='replace')"
   ]
  },
  {
   "cell_type": "code",
   "execution_count": 9,
   "id": "22eb4e97",
   "metadata": {},
   "outputs": [
    {
     "name": "stdout",
     "output_type": "stream",
     "text": [
      "All SQL commands executed.\n"
     ]
    },
    {
     "data": {
      "text/plain": [
       "['dim_users',\n",
       " 'dim_card_details',\n",
       " 'dim_store_details',\n",
       " 'dim_products',\n",
       " 'orders_table',\n",
       " 'dim_date_times']"
      ]
     },
     "execution_count": 9,
     "metadata": {},
     "output_type": "execute_result"
    }
   ],
   "source": [
    "# Clean tables, update data types and add primary and foreign keys in cleaned SQL database,\n",
    "# and list tables within this database.\n",
    "db_cleaned.execute_sql_from_folder('SQL_tidy_commands')\n",
    "db_cleaned.list_db_tables()"
   ]
  },
  {
   "cell_type": "code",
   "execution_count": null,
   "id": "afb55fd6",
   "metadata": {},
   "outputs": [],
   "source": []
  }
 ],
 "metadata": {
  "kernelspec": {
   "display_name": "base",
   "language": "python",
   "name": "python3"
  },
  "language_info": {
   "codemirror_mode": {
    "name": "ipython",
    "version": 3
   },
   "file_extension": ".py",
   "mimetype": "text/x-python",
   "name": "python",
   "nbconvert_exporter": "python",
   "pygments_lexer": "ipython3",
   "version": "3.9.7"
  }
 },
 "nbformat": 4,
 "nbformat_minor": 5
}
